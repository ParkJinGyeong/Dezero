{
 "cells": [
  {
   "cell_type": "code",
   "execution_count": 1,
   "metadata": {},
   "outputs": [],
   "source": [
    "import numpy as np\n",
    "\n",
    "#역전파에 대응하는 Variable 클래스 구현\n",
    "class Variable:\n",
    "    def __init__(self, data):\n",
    "        self.data = data\n",
    "        self.grad = None  # 미분값, 처음 객체를 만들 때는 미분값이 없기 때문에 None # 새로운 인스턴스 변수 만들기 "
   ]
  },
  {
   "cell_type": "code",
   "execution_count": 2,
   "metadata": {},
   "outputs": [],
   "source": [
    "class Function:\n",
    "    def __call__(self, input):\n",
    "        x = input.data  # Variable의 데이터를 가져와야함\n",
    "        y = self.forward(x)  # 순전파 계산, Forward의 메소드를 실행해서 가져옴\n",
    "        output = Variable(y)  # 결과를 Variable로 감싸서\n",
    "        self.input = input  # 입력값 저장\n",
    "        return output  # 계산된 Variable 객체 반환\n",
    "\n",
    "    def forward(self, x):\n",
    "        raise NotImplementedError()\n",
    "\n",
    "    def backward(self, gy):\n",
    "        raise NotImplementedError()"
   ]
  },
  {
   "cell_type": "code",
   "execution_count": 3,
   "metadata": {},
   "outputs": [],
   "source": [
    "class Square(Function):  # Function에서 상속받은 클래스\n",
    "    def forward(self, x):  # 입력값을 제곱하는 forward\n",
    "        y = x**2\n",
    "        return y\n",
    "\n",
    "    def backward(self, gy):  # 순전파 때 받아온 입력값을 활용하기\n",
    "        x = self.input.data  # 2x 활용해서 미분하기\n",
    "        gx = 2 * x * gy\n",
    "        return gx\n",
    "\n",
    "\n",
    "class Exp(Function):  # 지수함수 선언\n",
    "    def forward(self, x):\n",
    "        y = np.exp(x)\n",
    "        return y\n",
    "\n",
    "    def backward(self, gy):\n",
    "        x = self.input.data\n",
    "        gx = np.exp(x) * gy\n",
    "        return gx"
   ]
  },
  {
   "cell_type": "code",
   "execution_count": 4,
   "metadata": {},
   "outputs": [
    {
     "name": "stdout",
     "output_type": "stream",
     "text": [
      "3.297442541400256\n"
     ]
    }
   ],
   "source": [
    "A = Square()  # 제곱 노드\n",
    "B = Exp()  # 지수 노드\n",
    "C = Square()  # 다시 제곱 연산하는 노드\n",
    "# 연산노드를 정의 내리는 과정\n",
    "\n",
    "x = Variable(np.array(0.5))\n",
    "a = A(x)\n",
    "b = B(a)\n",
    "y = C(b)\n",
    "# 순전파\n",
    "\n",
    "y.grad = np.array(1.0)  # 출력 y의 미분값을 1로 설정 (dL/dy = 1) 미분 기울기 초기화\n",
    "b.grad = C.backward(y.grad)\n",
    "a.grad = B.backward(b.grad)\n",
    "x.grad = A.backward(a.grad)\n",
    "print(x.grad)"
   ]
  },
  {
   "cell_type": "code",
   "execution_count": null,
   "metadata": {},
   "outputs": [],
   "source": []
  }
 ],
 "metadata": {
  "kernelspec": {
   "display_name": "Python (pyenv_env)",
   "language": "python",
   "name": "pyenv_env"
  },
  "language_info": {
   "codemirror_mode": {
    "name": "ipython",
    "version": 3
   },
   "file_extension": ".py",
   "mimetype": "text/x-python",
   "name": "python",
   "nbconvert_exporter": "python",
   "pygments_lexer": "ipython3",
   "version": "3.11.9"
  }
 },
 "nbformat": 4,
 "nbformat_minor": 2
}
